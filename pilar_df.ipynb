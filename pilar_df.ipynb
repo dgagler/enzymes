{
 "cells": [
  {
   "cell_type": "markdown",
   "metadata": {},
   "source": [
    "# Creating special dataframe for Pilar\n",
    "\n",
    "1. Makes a dataframe from raw metagenome data.\n",
    "2. Subsets raw dataframe to create new dataframe that only includes rows (metagenomes) which have values for specific columns which Pilar cares about.\n",
    "3. Gets the EC lists associated with the subset metagenomes.\n",
    "4. Computes # of ECs, # of associated compounds, and # of associated reactions for each subset metagenome based on EC list.\n",
    "5. Writes out csv of conglomerated data."
   ]
  },
  {
   "cell_type": "code",
   "execution_count": null,
   "metadata": {},
   "outputs": [],
   "source": [
    "import numpy as np\n",
    "import pandas as pd\n",
    "import matplotlib.pyplot as plt\n",
    "import json\n",
    "import glob\n",
    "import os"
   ]
  },
  {
   "cell_type": "code",
   "execution_count": null,
   "metadata": {},
   "outputs": [],
   "source": [
    "pilar_path = '/Users/dgagler/School/SecondaryProject/RedoxEnzymes/JGI_2019/Metagenomes/taxon_ids/'\n",
    "\n",
    "path = glob.glob(os.path.join(pilar_path, '*.json'))"
   ]
  },
  {
   "cell_type": "code",
   "execution_count": null,
   "metadata": {},
   "outputs": [],
   "source": [
    "with open('/Users/dgagler/School/SecondaryProject/RedoxEnzymes/KEGG/enzyme_reaction.json', 'r') as f:\n",
    "    ec_rxn_links = json.load(f)\n",
    "    \n",
    "with open('/Users/dgagler/School/SecondaryProject/RedoxEnzymes/KEGG/enzyme_compound.json', 'r') as f:\n",
    "    ec_cpd_links = json.load(f)"
   ]
  },
  {
   "cell_type": "code",
   "execution_count": null,
   "metadata": {},
   "outputs": [],
   "source": [
    "pilar_metadata = {}\n",
    "\n",
    "for i in path:\n",
    "    organism_dict = {}\n",
    "    with open(i, 'r') as f:\n",
    "        data = json.load(f)\n",
    "        taxon_id = data['metadata']['Taxon Object ID']\n",
    "        metadata = data['metadata']\n",
    "        organism_dict['Ecosystem'] = metadata['Ecosystem']\n",
    "        organism_dict['Ecosystem Category'] = metadata['Ecosystem Category']\n",
    "        organism_dict['Ecosystem Subtype'] = metadata['Ecosystem Type']\n",
    "        if 'Ecotype' in metadata:\n",
    "            organism_dict['Ecotype'] = metadata['Ecotype']\n",
    "        if 'Specific Ecosystem' in metadata:\n",
    "            organism_dict['Specific Ecosystem'] = metadata['Specific Ecosystem']\n",
    "        if 'Geographic Location' in metadata:\n",
    "            organism_dict['Geographic Location'] = metadata['Geographic Location']\n",
    "        if 'Altitude In Meters' in metadata:\n",
    "            organism_dict['Altitude (m)'] = metadata['Altitude In Meters']\n",
    "        if 'Depth In Meters' in metadata:\n",
    "            organism_dict['Depth (m)'] = metadata['Depth In Meters']\n",
    "        if 'pH' in metadata:\n",
    "            organism_dict['pH'] = metadata['pH']\n",
    "        if 'Salinity' in metadata:\n",
    "            organism_dict['Salinity'] = metadata['Salinity']\n",
    "        if 'Oxygen Concentration' in metadata:\n",
    "            organism_dict['Oxygen concentration'] = metadata['Oxygen concentration']\n",
    "        if 'Oxygen Requirement' in metadata:\n",
    "            organism_dict['Oxygen Requirement'] = metadata['Oxygen Requirement']\n",
    "        if 'Nitrate' in metadata:\n",
    "            organism_dict['Nitrate Concentration'] = metadata['Nitrate Concentration']\n",
    "        if 'Temperature' in metadata:\n",
    "            organism_dict['Temperature Range'] = metadata['Temperature Range']\n",
    "        if 'Metabolism' in metadata:\n",
    "            organism_dict['Metabolism'] = metadata['Metabolism']\n",
    "        if 'Energy Source' in metadata:\n",
    "            organism_dict['Source'] = metadata['Energy Source']\n",
    "            \n",
    "        pilar_metadata[taxon_id] = organism_dict"
   ]
  },
  {
   "cell_type": "code",
   "execution_count": null,
   "metadata": {},
   "outputs": [],
   "source": [
    "pilar_metadata_df = pd.DataFrame(pilar_metadata).T"
   ]
  },
  {
   "cell_type": "code",
   "execution_count": null,
   "metadata": {},
   "outputs": [],
   "source": [
    "pilar_enzymes = {}\n",
    "\n",
    "for i in path:\n",
    "    with open(i, 'r') as f:\n",
    "        data = json.load(f)\n",
    "        if 'assembled' in data:\n",
    "            enzymes = data['assembled'].keys()\n",
    "            enzymes = [e[3:] for e in enzymes]\n",
    "            pilar_enzymes[data['metadata']['Taxon Object ID']] = enzymes\n",
    "            #for k,v in data['assembled'].items():   \n",
    "                #print(k[3:])\n",
    "                #print(v[1])\n",
    "                #pilar_enzymes[data['metadata']['Taxon Object ID']] = [k[3:], v[1]]\n"
   ]
  },
  {
   "cell_type": "code",
   "execution_count": null,
   "metadata": {},
   "outputs": [],
   "source": [
    "def get_cpd_dict(ec_dict):\n",
    "    ec_cpd_dict = {}\n",
    "    \n",
    "    for k,v in ec_dict.items():\n",
    "        organism_cpd_total = []\n",
    "        fixed_ec_list = [('ec:' + i) for i in v]\n",
    "        for i in fixed_ec_list:\n",
    "            if i in ec_cpd_links:\n",
    "                organism_cpd_total.append(ec_cpd_links[i])\n",
    "                \n",
    "        flat_organism_cpd_total = [i for sublist in organism_cpd_total for i in sublist]\n",
    "        unique_organism_cpd_total = list(set(flat_organism_cpd_total))\n",
    "        ec_cpd_dict[k] = [len(unique_organism_cpd_total), unique_organism_cpd_total]\n",
    "        \n",
    "    return ec_cpd_dict"
   ]
  },
  {
   "cell_type": "code",
   "execution_count": null,
   "metadata": {},
   "outputs": [],
   "source": [
    "def get_rxn_dict(ec_dict):\n",
    "    ec_rxn_dict = {}\n",
    "    \n",
    "    for k,v in ec_dict.items():\n",
    "        organism_rxn_total = []\n",
    "        fixed_ec_list = [('ec:' + i) for i in v]\n",
    "        for i in fixed_ec_list:\n",
    "            if i in ec_rxn_links:\n",
    "                organism_rxn_total.append(ec_rxn_links[i])\n",
    "                \n",
    "        flat_organism_rxn_total = [i for sublist in organism_rxn_total for i in sublist]\n",
    "        unique_organism_rxn_total = list(set(flat_organism_rxn_total))\n",
    "        ec_rxn_dict[k] = [len(unique_organism_rxn_total), unique_organism_rxn_total]\n",
    "        \n",
    "    return ec_rxn_dict"
   ]
  },
  {
   "cell_type": "code",
   "execution_count": null,
   "metadata": {},
   "outputs": [],
   "source": [
    "pilar_cpd_dict = get_cpd_dict(pilar_enzymes)\n",
    "pilar_rxn_dict = get_rxn_dict(pilar_enzymes)"
   ]
  },
  {
   "cell_type": "code",
   "execution_count": null,
   "metadata": {},
   "outputs": [],
   "source": [
    "for k,v in pilar_cpd_dict.items():\n",
    "    pilar_cpd_dict[k] = v[0]\n",
    "for k,v in pilar_rxn_dict.items():\n",
    "    pilar_rxn_dict[k] = v[0]\n",
    "\n",
    "pilar_ecnum_dict = {}\n",
    "\n",
    "for k,v in pilar_enzymes.items():\n",
    "    pilar_ecnum_dict[k] = len(v)\n",
    "\n"
   ]
  },
  {
   "cell_type": "code",
   "execution_count": null,
   "metadata": {},
   "outputs": [],
   "source": [
    "pilar_cpd_df = pd.DataFrame(pilar_cpd_dict, index=['#cpds']).T\n",
    "pilar_cpd_df.index.name='Taxon ID'\n",
    "\n",
    "pilar_rxn_df = pd.DataFrame(pilar_rxn_dict, index=['#rxns']).T\n",
    "pilar_rxn_df.index.name='Taxon ID'\n",
    "\n",
    "pilar_ecnum_df = pd.DataFrame(pilar_ecnum_dict, index=['#ecs']).T\n",
    "pilar_ecnum_df.index.name='Taxon ID'"
   ]
  },
  {
   "cell_type": "code",
   "execution_count": null,
   "metadata": {},
   "outputs": [],
   "source": [
    "core_df = pilar_cpd_df.join(pilar_rxn_df)\n",
    "core_df = core_df.join(pilar_ecnum_df)\n",
    "\n",
    "aba = list(pilar_enzymes.values())\n",
    "core_df['ecs'] = aba\n"
   ]
  },
  {
   "cell_type": "code",
   "execution_count": null,
   "metadata": {},
   "outputs": [],
   "source": [
    "core_df = core_df.join(pilar_metadata_df)"
   ]
  },
  {
   "cell_type": "code",
   "execution_count": null,
   "metadata": {},
   "outputs": [],
   "source": [
    "core_df.to_csv(pilar_path+'/pilar_oxygen_metagenomes.csv')"
   ]
  },
  {
   "cell_type": "code",
   "execution_count": null,
   "metadata": {},
   "outputs": [],
   "source": []
  }
 ],
 "metadata": {
  "kernelspec": {
   "display_name": "Python 3",
   "language": "python",
   "name": "python3"
  },
  "language_info": {
   "codemirror_mode": {
    "name": "ipython",
    "version": 3
   },
   "file_extension": ".py",
   "mimetype": "text/x-python",
   "name": "python",
   "nbconvert_exporter": "python",
   "pygments_lexer": "ipython3",
   "version": "3.7.4"
  }
 },
 "nbformat": 4,
 "nbformat_minor": 2
}
