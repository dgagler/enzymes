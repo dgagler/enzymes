{
 "cells": [
  {
   "cell_type": "markdown",
   "metadata": {},
   "source": [
    "# Example code for Pilar to use\n",
    "Showcases how to read in the data and make a simple plot."
   ]
  },
  {
   "cell_type": "code",
   "execution_count": 1,
   "metadata": {},
   "outputs": [],
   "source": [
    "import pandas as pd ### importing different packages...pandas is the dataframe package\n",
    "import matplotlib.pyplot as plt ### matplotlib is the plotting package\n",
    "import seaborn as sns ### seaborn is a plotting package that sits on top of matplotlib...it basically just looks nicer\n",
    "\n",
    "sns.set() ### \"starts\" seaborn"
   ]
  },
  {
   "cell_type": "code",
   "execution_count": 4,
   "metadata": {},
   "outputs": [],
   "source": [
    "### using pandas to read in the csv\n",
    "\n",
    "df = pd.read_csv('/Users/dgagler/School/SecondaryProject/RedoxEnzymes/JGI_2019/Metagenomes/pilar/pilar_oxygen_metagenomes.csv')"
   ]
  },
  {
   "cell_type": "code",
   "execution_count": 5,
   "metadata": {},
   "outputs": [
    {
     "data": {
      "text/html": [
       "<div>\n",
       "<style scoped>\n",
       "    .dataframe tbody tr th:only-of-type {\n",
       "        vertical-align: middle;\n",
       "    }\n",
       "\n",
       "    .dataframe tbody tr th {\n",
       "        vertical-align: top;\n",
       "    }\n",
       "\n",
       "    .dataframe thead th {\n",
       "        text-align: right;\n",
       "    }\n",
       "</style>\n",
       "<table border=\"1\" class=\"dataframe\">\n",
       "  <thead>\n",
       "    <tr style=\"text-align: right;\">\n",
       "      <th></th>\n",
       "      <th>Taxon ID</th>\n",
       "      <th>#cpds</th>\n",
       "      <th>#rxns</th>\n",
       "      <th>#ecs</th>\n",
       "      <th>ecs</th>\n",
       "      <th>Ecosystem</th>\n",
       "      <th>Ecosystem Category</th>\n",
       "      <th>Ecosystem Subtype</th>\n",
       "      <th>Specific Ecosystem</th>\n",
       "      <th>Geographic Location</th>\n",
       "      <th>pH</th>\n",
       "      <th>Oxygen concentration</th>\n",
       "    </tr>\n",
       "  </thead>\n",
       "  <tbody>\n",
       "    <tr>\n",
       "      <th>0</th>\n",
       "      <td>3300025143</td>\n",
       "      <td>2980</td>\n",
       "      <td>3364</td>\n",
       "      <td>2135</td>\n",
       "      <td>['1.-', '1.1.-', '1.1.1.-', '1.1.1.1', '1.1.1....</td>\n",
       "      <td>Environmental</td>\n",
       "      <td>Aquatic</td>\n",
       "      <td>Freshwater</td>\n",
       "      <td>Sediment</td>\n",
       "      <td>Indonesia: Gulf of Boni</td>\n",
       "      <td>7.2-7.4</td>\n",
       "      <td>0 uM</td>\n",
       "    </tr>\n",
       "    <tr>\n",
       "      <th>1</th>\n",
       "      <td>3300025067</td>\n",
       "      <td>2161</td>\n",
       "      <td>2313</td>\n",
       "      <td>1494</td>\n",
       "      <td>['1.-', '1.1.1.-', '1.1.1.1', '1.1.1.100', '1....</td>\n",
       "      <td>Environmental</td>\n",
       "      <td>Aquatic</td>\n",
       "      <td>Thermal springs</td>\n",
       "      <td>Sediment</td>\n",
       "      <td>USA: Nevada, Gerlach, Sandy's Spring West</td>\n",
       "      <td>7.03</td>\n",
       "      <td>19 uM</td>\n",
       "    </tr>\n",
       "    <tr>\n",
       "      <th>2</th>\n",
       "      <td>3300009502</td>\n",
       "      <td>3019</td>\n",
       "      <td>3389</td>\n",
       "      <td>2228</td>\n",
       "      <td>['1.-', '1.1.-', '1.1.1.-', '1.1.1.1', '1.1.1....</td>\n",
       "      <td>Environmental</td>\n",
       "      <td>Aquatic</td>\n",
       "      <td>Freshwater</td>\n",
       "      <td>Unclassified</td>\n",
       "      <td>Finland: Lake Alinen Mustajarvi</td>\n",
       "      <td>6.05</td>\n",
       "      <td>16.5 uM</td>\n",
       "    </tr>\n",
       "    <tr>\n",
       "      <th>3</th>\n",
       "      <td>3300010324</td>\n",
       "      <td>3038</td>\n",
       "      <td>3389</td>\n",
       "      <td>2169</td>\n",
       "      <td>['1.-', '1.1.-', '1.1.1.-', '1.1.1.1', '1.1.1....</td>\n",
       "      <td>Environmental</td>\n",
       "      <td>Aquatic</td>\n",
       "      <td>Freshwater</td>\n",
       "      <td>Sediment</td>\n",
       "      <td>Indonesia: Gulf of Boni</td>\n",
       "      <td>7.2-7.4</td>\n",
       "      <td>0 uM</td>\n",
       "    </tr>\n",
       "    <tr>\n",
       "      <th>4</th>\n",
       "      <td>3300010308</td>\n",
       "      <td>2524</td>\n",
       "      <td>2762</td>\n",
       "      <td>1807</td>\n",
       "      <td>['1.-', '1.1.-', '1.1.1.-', '1.1.1.1', '1.1.1....</td>\n",
       "      <td>Environmental</td>\n",
       "      <td>Aquatic</td>\n",
       "      <td>Thermal springs</td>\n",
       "      <td>Microbial mats</td>\n",
       "      <td>USA: California</td>\n",
       "      <td>8.0825</td>\n",
       "      <td>196.56 uM</td>\n",
       "    </tr>\n",
       "  </tbody>\n",
       "</table>\n",
       "</div>"
      ],
      "text/plain": [
       "     Taxon ID  #cpds  #rxns  #ecs  \\\n",
       "0  3300025143   2980   3364  2135   \n",
       "1  3300025067   2161   2313  1494   \n",
       "2  3300009502   3019   3389  2228   \n",
       "3  3300010324   3038   3389  2169   \n",
       "4  3300010308   2524   2762  1807   \n",
       "\n",
       "                                                 ecs      Ecosystem  \\\n",
       "0  ['1.-', '1.1.-', '1.1.1.-', '1.1.1.1', '1.1.1....  Environmental   \n",
       "1  ['1.-', '1.1.1.-', '1.1.1.1', '1.1.1.100', '1....  Environmental   \n",
       "2  ['1.-', '1.1.-', '1.1.1.-', '1.1.1.1', '1.1.1....  Environmental   \n",
       "3  ['1.-', '1.1.-', '1.1.1.-', '1.1.1.1', '1.1.1....  Environmental   \n",
       "4  ['1.-', '1.1.-', '1.1.1.-', '1.1.1.1', '1.1.1....  Environmental   \n",
       "\n",
       "  Ecosystem Category Ecosystem Subtype Specific Ecosystem  \\\n",
       "0            Aquatic        Freshwater           Sediment   \n",
       "1            Aquatic   Thermal springs           Sediment   \n",
       "2            Aquatic        Freshwater       Unclassified   \n",
       "3            Aquatic        Freshwater           Sediment   \n",
       "4            Aquatic   Thermal springs     Microbial mats   \n",
       "\n",
       "                         Geographic Location       pH Oxygen concentration  \n",
       "0                    Indonesia: Gulf of Boni  7.2-7.4                 0 uM  \n",
       "1  USA: Nevada, Gerlach, Sandy's Spring West     7.03                19 uM  \n",
       "2            Finland: Lake Alinen Mustajarvi     6.05              16.5 uM  \n",
       "3                    Indonesia: Gulf of Boni  7.2-7.4                 0 uM  \n",
       "4                            USA: California   8.0825            196.56 uM  "
      ]
     },
     "execution_count": 5,
     "metadata": {},
     "output_type": "execute_result"
    }
   ],
   "source": [
    "df.head() ### the .head() function shows the first 5 rows of the df"
   ]
  },
  {
   "cell_type": "code",
   "execution_count": 7,
   "metadata": {},
   "outputs": [
    {
     "data": {
      "image/png": "[encoded data removed]",
      "text/plain": [
       "<Figure size 432x288 with 1 Axes>"
      ]
     },
     "metadata": {
      "needs_background": "light"
     },
     "output_type": "display_data"
    }
   ],
   "source": [
    "plt.scatter(df['#cpds'], df['#rxns'])\n",
    "plt.xlabel('# of compounds')\n",
    "plt.ylabel('# of reactions')\n",
    "plt.title('Example Title Text')\n",
    "plt.show()"
   ]
  },
  {
   "cell_type": "code",
   "execution_count": null,
   "metadata": {},
   "outputs": [],
   "source": []
  }
 ],
 "metadata": {
  "kernelspec": {
   "display_name": "Python 3",
   "language": "python",
   "name": "python3"
  },
  "language_info": {
   "codemirror_mode": {
    "name": "ipython",
    "version": 3
   },
   "file_extension": ".py",
   "mimetype": "text/x-python",
   "name": "python",
   "nbconvert_exporter": "python",
   "pygments_lexer": "ipython3",
   "version": "3.7.4"
  }
 },
 "nbformat": 4,
 "nbformat_minor": 2
}
